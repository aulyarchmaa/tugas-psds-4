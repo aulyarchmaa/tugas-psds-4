{
  "nbformat": 4,
  "nbformat_minor": 0,
  "metadata": {
    "colab": {
      "provenance": []
    },
    "kernelspec": {
      "name": "python3",
      "display_name": "Python 3"
    },
    "language_info": {
      "name": "python"
    }
  },
  "cells": [
    {
      "cell_type": "code",
      "execution_count": 1,
      "metadata": {
        "colab": {
          "base_uri": "https://localhost:8080/"
        },
        "id": "sCpikCUD5epA",
        "outputId": "ee96a76b-46c8-4f5e-9c56-a86451d6a0dd"
      },
      "outputs": [
        {
          "output_type": "stream",
          "name": "stdout",
          "text": [
            "List 1: ['kimia', 'fisika', 1993, 2017]\n",
            "List 2: [1, 2, 3, 4, 5]\n",
            "List 3: ['a', 'b', 'c', 'd']\n"
          ]
        }
      ],
      "source": [
        "#Contoh sederhana pembuatan list pada bahasa pemrograman python\n",
        "list1= ['kimia', 'fisika', 1993, 2017]\n",
        "list2= [1, 2, 3, 4, 5]\n",
        "list3= [\"a\", \"b\", \"c\", \"d\"]\n",
        "\n",
        "print('List 1:', list1)\n",
        "print('List 2:', list2)\n",
        "print('List 3:', list3)"
      ]
    },
    {
      "cell_type": "code",
      "source": [
        "#Cara mengakses nilai di dalam list Python\n",
        "\n",
        "list1 = ['fisika', 'kimia', 1993, 2017]\n",
        "list2 = [1, 2, 3, 4, 5, 6, 7]\n",
        "\n",
        "print (\"list1[0]: \", list1[0])\n",
        "print (\"list2[1:5]: \", list2[1:5])"
      ],
      "metadata": {
        "colab": {
          "base_uri": "https://localhost:8080/"
        },
        "id": "o_c1x_Vv-ruv",
        "outputId": "f6a073a5-3bfb-4a8b-d8b8-0abfadd8916c"
      },
      "execution_count": 3,
      "outputs": [
        {
          "output_type": "stream",
          "name": "stdout",
          "text": [
            "list1[0]:  fisika\n",
            "list2[1:5]:  [2, 3, 4, 5]\n"
          ]
        }
      ]
    },
    {
      "cell_type": "code",
      "source": [
        "list = ['fisika', 'kimia', 1993, 2017]\n",
        "print (\"Nilai ada pada index 2:\", list[2])\n",
        "\n",
        "list[2] = 2001\n",
        "print (\"Nilai baru ada pada index 2:\", list[2])"
      ],
      "metadata": {
        "colab": {
          "base_uri": "https://localhost:8080/"
        },
        "id": "TuMVSBZk_GIw",
        "outputId": "088609bc-a008-42d0-dcf7-114a088c2abc"
      },
      "execution_count": 4,
      "outputs": [
        {
          "output_type": "stream",
          "name": "stdout",
          "text": [
            "Nilai ada pada index 2: 1993\n",
            "Nilai baru ada pada index 2: 2001\n"
          ]
        }
      ]
    },
    {
      "cell_type": "code",
      "source": [
        "#contoh cara menghapus nilai\n",
        "list = ['fisika', 'kimia', 1993, 2017]\n",
        "print(list)\n",
        "del list[2]\n",
        "print(\"setelah dihapus nilai pada index 2:\", list)"
      ],
      "metadata": {
        "colab": {
          "base_uri": "https://localhost:8080/"
        },
        "id": "npGk1LjN_ZFh",
        "outputId": "0a7f7aa5-cba0-48ab-9dca-55fa01142e9d"
      },
      "execution_count": 5,
      "outputs": [
        {
          "output_type": "stream",
          "name": "stdout",
          "text": [
            "['fisika', 'kimia', 1993, 2017]\n",
            "setelah dihapus nilai pada index 2: ['fisika', 'kimia', 2017]\n"
          ]
        }
      ]
    },
    {
      "cell_type": "code",
      "source": [
        "L= ['C++', 'Java', 'Python']\n",
        "\n",
        "print('Indeks ke-2:', L[2])\n",
        "print('Indeks ke-2 dari belakang:', L[-2])\n",
        "print('Indeks ke 1 dan 2 :', L[1:])"
      ],
      "metadata": {
        "colab": {
          "base_uri": "https://localhost:8080/"
        },
        "id": "MCB_oorX_qRg",
        "outputId": "523be6f8-424c-4c21-c78b-1c78247c5079"
      },
      "execution_count": 6,
      "outputs": [
        {
          "output_type": "stream",
          "name": "stdout",
          "text": [
            "Indeks ke-2: Python\n",
            "Indeks ke-2 dari belakang: Java\n",
            "Indeks ke 1 dan 2 : ['Java', 'Python']\n"
          ]
        }
      ]
    },
    {
      "cell_type": "code",
      "source": [
        "#mengakses item dalam set\n",
        "a = (\"Rokok\", \"Korek\", \"Asbak\")\n",
        "print(\"Rokok\" in a)\n",
        "\n",
        "\n",
        "#menghapus item dalam set\n",
        "a = {\"Rokok\", \"Korek\", \"Asbak\"}\n",
        "a.remove(\"Korek\")\n",
        "print(a)"
      ],
      "metadata": {
        "colab": {
          "base_uri": "https://localhost:8080/"
        },
        "id": "F2sVwtTr_y0u",
        "outputId": "ea5792d3-d0f5-4f04-b490-b60cac383594"
      },
      "execution_count": 7,
      "outputs": [
        {
          "output_type": "stream",
          "name": "stdout",
          "text": [
            "True\n",
            "{'Rokok', 'Asbak'}\n"
          ]
        }
      ]
    },
    {
      "cell_type": "code",
      "source": [
        "#contoh dictionary yang diisi item dengan berbagai jenis tipe data\n",
        "x = {\"nama\": \"Budi\", \"umur\": 50, \"tinggi_badan\": 155.5}\n",
        "print(x)"
      ],
      "metadata": {
        "colab": {
          "base_uri": "https://localhost:8080/"
        },
        "id": "P7oKcOYCBSxF",
        "outputId": "295f3fd0-1c68-452f-9174-3c3e3609df53"
      },
      "execution_count": 8,
      "outputs": [
        {
          "output_type": "stream",
          "name": "stdout",
          "text": [
            "{'nama': 'Budi', 'umur': 50, 'tinggi_badan': 155.5}\n"
          ]
        }
      ]
    },
    {
      "cell_type": "code",
      "source": [
        "#mengakses value dari dictonary\n",
        "menteri={\"nama\": \"Budi\", \"umur\": 50}\n",
        "print(menteri[\"umur\"])                               #contoh membuat dictonary pada python\n",
        "dict = {'Name': 'Zara', 'Age': 7, 'Class': 'First'}\n",
        "print (\"dict['Name']: \", dict['Name'])\n",
        "print (\"dict['Age']: \", dict['Age'])"
      ],
      "metadata": {
        "colab": {
          "base_uri": "https://localhost:8080/"
        },
        "id": "zWB1k-erBSbD",
        "outputId": "d33b4b7f-b3bf-4b1e-f8e1-4d33ee886b32"
      },
      "execution_count": 9,
      "outputs": [
        {
          "output_type": "stream",
          "name": "stdout",
          "text": [
            "50\n",
            "dict['Name']:  Zara\n",
            "dict['Age']:  7\n"
          ]
        }
      ]
    },
    {
      "cell_type": "code",
      "source": [
        "#mengubah item\n",
        "dict={'Name': 'Zara', 'Age': 7, 'Class': 'First'}\n",
        "dict['Age'] = 8; #Mengubah entri yang sudah ada\n",
        "dict['School'] = \"DPS School\" #Menambah entri baru\n",
        "\n",
        "print(\"dict['Age']: \", dict['Age'])\n",
        "print(\"dict['School']: \", dict['School'])"
      ],
      "metadata": {
        "colab": {
          "base_uri": "https://localhost:8080/"
        },
        "id": "Q01VnuHoBSD_",
        "outputId": "922c1db0-b73a-4856-efb2-5eeae9405da5"
      },
      "execution_count": 10,
      "outputs": [
        {
          "output_type": "stream",
          "name": "stdout",
          "text": [
            "dict['Age']:  8\n",
            "dict['School']:  DPS School\n"
          ]
        }
      ]
    },
    {
      "cell_type": "code",
      "source": [
        "menteri = {\"nama\": \"Budi\", \"umur\": 58}\n",
        "menteri[\"nama\"] = \"Adi\"\n",
        "print(menteri)"
      ],
      "metadata": {
        "colab": {
          "base_uri": "https://localhost:8080/"
        },
        "id": "cQMlCMP6BtHF",
        "outputId": "73dbadfe-ebbc-4a31-c379-7e3ca90b45b5"
      },
      "execution_count": 11,
      "outputs": [
        {
          "output_type": "stream",
          "name": "stdout",
          "text": [
            "{'nama': 'Adi', 'umur': 58}\n"
          ]
        }
      ]
    },
    {
      "cell_type": "code",
      "source": [
        "#menambah item\n",
        "menteri= {\"nama\": \"Budi\", \"umur\": 50}\n",
        "menteri[ \"kementerian\"] = \"Setneg\"\n",
        "print(menteri)"
      ],
      "metadata": {
        "colab": {
          "base_uri": "https://localhost:8080/"
        },
        "id": "gBb4y5k_CXn_",
        "outputId": "5eff6e8f-3ba1-4219-8c00-f422202cf730"
      },
      "execution_count": 12,
      "outputs": [
        {
          "output_type": "stream",
          "name": "stdout",
          "text": [
            "{'nama': 'Budi', 'umur': 50, 'kementerian': 'Setneg'}\n"
          ]
        }
      ]
    },
    {
      "cell_type": "code",
      "source": [
        "#menghapus item\n",
        "menteri = {\"nama\": \"Budi\", \"umur\": 50, \"kementerian\": \"Setneg\"}\n",
        "print(menteri.pop(\"kementerian\"))"
      ],
      "metadata": {
        "colab": {
          "base_uri": "https://localhost:8080/"
        },
        "id": "dkEUgj1eCfnl",
        "outputId": "9c380e6d-a97f-4895-f815-936076065df3"
      },
      "execution_count": 13,
      "outputs": [
        {
          "output_type": "stream",
          "name": "stdout",
          "text": [
            "Setneg\n"
          ]
        }
      ]
    },
    {
      "cell_type": "code",
      "source": [
        "dict={'Name': 'Zara', 'Age': 7, 'Class': 'First'}\n",
        "\n",
        "del dict['Name'] # hapus entri dengan key 'Name'\n",
        "dict.clear() #hapus semua entri di dict\n",
        "del dict #hapus dictionary yang sudah ada\n",
        "\n",
        "print(\"dict['Age']: \", dict['Age'])\n",
        "print(\"dict[ 'School']: \", dict['School'])"
      ],
      "metadata": {
        "id": "yEw34hdfCi1t"
      },
      "execution_count": null,
      "outputs": []
    },
    {
      "cell_type": "code",
      "source": [
        "#Program untuk menghitung jumlah semua angka dalam sebuah list\n",
        "L1=[2, 4, 5, 7, 9]\n",
        "jumlah=0\n",
        "\n",
        "#iterasi di dalan list\n",
        "for i in L1:\n",
        "  jumlah= jumlah + i\n",
        "\n",
        "print(jumlah)"
      ],
      "metadata": {
        "colab": {
          "base_uri": "https://localhost:8080/"
        },
        "id": "BkCuMjboCin9",
        "outputId": "ee54d0fe-6924-46b7-fe88-9c9f59aaa58d"
      },
      "execution_count": 14,
      "outputs": [
        {
          "output_type": "stream",
          "name": "stdout",
          "text": [
            "27\n"
          ]
        }
      ]
    },
    {
      "cell_type": "code",
      "source": [
        "#Program untuk melakukan iterasi di dalam list melalui indeks\n",
        "minum = [\"teh\",\"boba\",\"kopi\",\"susu\"]\n",
        "p = len(minum)\n",
        "\n",
        "#iterasi di dalam list melalui indeks\n",
        "for i in range(p):\n",
        "  print(minum[i])"
      ],
      "metadata": {
        "colab": {
          "base_uri": "https://localhost:8080/"
        },
        "id": "owltHywyCiaA",
        "outputId": "4c2ed837-ee66-4ead-d2e2-f8df8e8470fd"
      },
      "execution_count": 15,
      "outputs": [
        {
          "output_type": "stream",
          "name": "stdout",
          "text": [
            "teh\n",
            "boba\n",
            "kopi\n",
            "susu\n"
          ]
        }
      ]
    },
    {
      "cell_type": "code",
      "source": [
        "for i in range(p):\n",
        "  print(minum[i])\n",
        "else:\n",
        "  print(\"Elemen sudah habis\")"
      ],
      "metadata": {
        "colab": {
          "base_uri": "https://localhost:8080/"
        },
        "id": "A4PH137_Chz6",
        "outputId": "b6c7baf2-5518-48f1-e48d-4c4184ed8d7d"
      },
      "execution_count": 16,
      "outputs": [
        {
          "output_type": "stream",
          "name": "stdout",
          "text": [
            "teh\n",
            "boba\n",
            "kopi\n",
            "susu\n",
            "Elemen sudah habis\n"
          ]
        }
      ]
    },
    {
      "cell_type": "code",
      "source": [
        "#program untuk menjumlahkan semua\n",
        "#bilangan asli hingga suku ke-n\n",
        "#jum = 1+2+3+...+n\n",
        "\n",
        "n = 10\n",
        "jumlah = 0\n",
        "i = 1\n",
        "\n",
        "while i <= n:\n",
        "  jumlah = jumlah + i\n",
        "  i = i + 1\n",
        "print(jumlah)"
      ],
      "metadata": {
        "colab": {
          "base_uri": "https://localhost:8080/"
        },
        "id": "Vy3zlIYzDKwB",
        "outputId": "a966e07d-5070-4938-cd83-b62fd7b65505"
      },
      "execution_count": 17,
      "outputs": [
        {
          "output_type": "stream",
          "name": "stdout",
          "text": [
            "55\n"
          ]
        }
      ]
    },
    {
      "cell_type": "code",
      "source": [
        "jum = 0\n",
        "i =1\n",
        "while i <= n:\n",
        "  jum = jum + i\n",
        "  i = i + 1\n",
        "else:\n",
        "  print(jum) #dieksekusi diluar looping"
      ],
      "metadata": {
        "colab": {
          "base_uri": "https://localhost:8080/"
        },
        "id": "hx02KViTDKnr",
        "outputId": "a4a9d798-cf3d-4cfd-ff4f-ba345b51273b"
      },
      "execution_count": 18,
      "outputs": [
        {
          "output_type": "stream",
          "name": "stdout",
          "text": [
            "55\n"
          ]
        }
      ]
    },
    {
      "cell_type": "code",
      "source": [
        "#jika angka adalah bilangan positif maka print \"adalah bilangan positif\"\n",
        "\n",
        "angka=3\n",
        "if angka > 0:\n",
        "   print(angka, \"adalah bilangan positif\")\n",
        "   print(\"pernyataan ini selalu ditampilkan\")\n",
        "\n",
        "angka=-1\n",
        "if angka > 0:\n",
        "   print(angka, \"adalah bilangan positif\")\n",
        "   print(\"pernyataan ini juga selalu ditampilkan\")"
      ],
      "metadata": {
        "colab": {
          "base_uri": "https://localhost:8080/"
        },
        "id": "g2RrTJuaDKfh",
        "outputId": "d7fcea4e-ea21-4cb7-e732-61b17b8f3664"
      },
      "execution_count": 19,
      "outputs": [
        {
          "output_type": "stream",
          "name": "stdout",
          "text": [
            "3 adalah bilangan positif\n",
            "pernyataan ini selalu ditampilkan\n"
          ]
        }
      ]
    },
    {
      "cell_type": "code",
      "source": [
        "# Program disusun untuk mengecek apakah angka tersebut kurang dari 0 atau tidak\n",
        "# dan menampilkan tulisan yang sesuai\n",
        "\n",
        "angka = 3\n",
        "if angka >= 0:\n",
        "  print(\"Bilangan lebih dari atau samadengan 0\")\n",
        "else:\n",
        "  print(\"Bilangan kurang dari 0\")"
      ],
      "metadata": {
        "colab": {
          "base_uri": "https://localhost:8080/"
        },
        "id": "YyXmdoUsFqpl",
        "outputId": "8bf9b0e1-49df-4778-a45a-98c18184b6bb"
      },
      "execution_count": 20,
      "outputs": [
        {
          "output_type": "stream",
          "name": "stdout",
          "text": [
            "Bilangan lebih dari atau samadengan 0\n"
          ]
        }
      ]
    },
    {
      "cell_type": "code",
      "source": [
        "# Program disusun untuk mengecek apakah dua buah angka sama atau tidak\n",
        "# dan menampilkan tulisan yang sesuai\n",
        "\n",
        "a=5\n",
        "b=5\n",
        "\n",
        "if a==b:\n",
        "  print(\"a dan b bernilai sama\")\n",
        "else:\n",
        "  print(\"a dan b bernilai berbeda\")\n",
        "  print(\"Belajar If Else\")"
      ],
      "metadata": {
        "colab": {
          "base_uri": "https://localhost:8080/"
        },
        "id": "VHlo8T1ZFqij",
        "outputId": "9a0416b4-6d12-44a7-cf2e-d64045fe4671"
      },
      "execution_count": 21,
      "outputs": [
        {
          "output_type": "stream",
          "name": "stdout",
          "text": [
            "a dan b bernilai sama\n"
          ]
        }
      ]
    },
    {
      "cell_type": "code",
      "source": [
        "# Program disusun untuk mengecek apakah perbandingan dua buah angka\n",
        "# dan menampilkan tulisan yang sesuai\n",
        "\n",
        "#membaca dua angka\n",
        "bill = int(input(\"Masukkan bilangan pertama: \"))\n",
        "bil2 = int(input(\"Masukkan bilangan kedua: \"))\n",
        "\n",
        "# memilih bilangan yang lebih besar\n",
        "if bill > bil2:\n",
        "  bil_lebih_besar = bill\n",
        "else:\n",
        "  bil_lebih_besar = bil2\n",
        "\n",
        "# menampilkan hasil\n",
        "print(\"Bilangan yang lebih besar adalah:\", bil_lebih_besar)"
      ],
      "metadata": {
        "colab": {
          "base_uri": "https://localhost:8080/"
        },
        "id": "vjjA3rIOFqZo",
        "outputId": "47353afc-aae1-4bc2-b78d-8dd8eade43d6"
      },
      "execution_count": 22,
      "outputs": [
        {
          "output_type": "stream",
          "name": "stdout",
          "text": [
            "Masukkan bilangan pertama: 2\n",
            "Masukkan bilangan kedua: 3\n",
            "Bilangan yang lebih besar adalah: 3\n"
          ]
        }
      ]
    },
    {
      "cell_type": "code",
      "source": [
        "# Program disusun untuk mengecek apakah angka merupakan bilangan positif, negatif atau sol\n",
        "# dan menampilkan tulisan yang sesuai.\n",
        "\n",
        "angka = 3.4\n",
        "\n",
        "if angka > 0:\n",
        " print(\"Bilangan positif\")\n",
        "elif num == 0:\n",
        " print(\"No1\")\n",
        "else:\n",
        " print(\"Bilangan Negatif\")"
      ],
      "metadata": {
        "colab": {
          "base_uri": "https://localhost:8080/"
        },
        "id": "u1ox_duyFqRB",
        "outputId": "6924f13d-5ab7-42ae-f456-c53eb378d51d"
      },
      "execution_count": 23,
      "outputs": [
        {
          "output_type": "stream",
          "name": "stdout",
          "text": [
            "Bilangan positif\n"
          ]
        }
      ]
    },
    {
      "cell_type": "code",
      "source": [
        "# Statement if\n",
        "x = 4\n",
        "if x % 2 == 0: # jika x dibagi 2 sisanya samadengan 0\n",
        "   print(\"x habis dibagi dua\")\n",
        "\n",
        "# Statement if ... elif ... else\n",
        "x = 7\n",
        "if x % 2 == 0: # jika x dibagi 2 sisanya samadengan 0\n",
        "   print(\"x habis dibagi dua\")\n",
        "elif x % 3 ==0: # jika x dibagi 3 sisanya samadengan 0\n",
        "   print(\"x habis dibagi tiga\")\n",
        "elif x % 5 == 0: # jika x dibagi 5 sisanya samadengan 0\n",
        "   print(\"x habis dibagi lima\")\n",
        "else:\n",
        "   print(\"x tidak habis dibagi dua, tiga ataupun lima\")"
      ],
      "metadata": {
        "colab": {
          "base_uri": "https://localhost:8080/"
        },
        "id": "M_riGk-yDKZH",
        "outputId": "5c0c13f8-de52-46eb-dc8e-d47f1d1cf233"
      },
      "execution_count": 24,
      "outputs": [
        {
          "output_type": "stream",
          "name": "stdout",
          "text": [
            "x habis dibagi dua\n",
            "x tidak habis dibagi dua, tiga ataupun lima\n"
          ]
        }
      ]
    },
    {
      "cell_type": "code",
      "source": [
        "# Program disusun untuk mengecek apakah angka merupakan bilangan positif, négatif ataŭ no1.\n",
        "# dan menampilkan tulisan yang semuas\n",
        "\n",
        "angka = float(input(\"Masukkan angka: \"))\n",
        "if angka >= 0:\n",
        "  if angka == 0:\n",
        "    print(\"Nol\")\n",
        "  else:\n",
        "    print(\"Bilangan Positif\")\n",
        "else:\n",
        "  print(\"Bilangan Negatif\")"
      ],
      "metadata": {
        "colab": {
          "base_uri": "https://localhost:8080/"
        },
        "id": "J0x_mAj1DKUA",
        "outputId": "00e56828-f622-4077-9b27-87212b11e758"
      },
      "execution_count": 25,
      "outputs": [
        {
          "output_type": "stream",
          "name": "stdout",
          "text": [
            "Masukkan angka: 8\n",
            "Bilangan Positif\n"
          ]
        }
      ]
    },
    {
      "cell_type": "code",
      "source": [
        "#latihan 1\n",
        "list_tagihan = [50000, 75000, -150000, 125000, 300000, -50000, 200000]\n",
        "jumlah = 0\n",
        "\n",
        "#iterasi di dalam list\n",
        "for i in list_tagihan:\n",
        " jumlah = jumlah + i\n",
        "print(\"total_tagihan : \", jumlah)\n"
      ],
      "metadata": {
        "colab": {
          "base_uri": "https://localhost:8080/"
        },
        "id": "uGxXBUJdDKQu",
        "outputId": "6b67edf6-1d43-4069-e319-bd9e70d08bab"
      },
      "execution_count": 26,
      "outputs": [
        {
          "output_type": "stream",
          "name": "stdout",
          "text": [
            "total_tagihan :  550000\n"
          ]
        }
      ]
    },
    {
      "cell_type": "code",
      "source": [
        "#Latihan 2\n",
        "tagihan = [50000, 75000, 125000, 300000, 200000]\n",
        "jumlah_tagihan = len(tagihan)\n",
        "i = 0\n",
        "total_tagihan = 0\n",
        "while i < jumlah_tagihan:\n",
        "  total_tagihan += tagihan[i]\n",
        "  i += 1\n",
        "print(total_tagihan)"
      ],
      "metadata": {
        "colab": {
          "base_uri": "https://localhost:8080/"
        },
        "id": "p5nSlXXnDKKr",
        "outputId": "82420cf4-060a-413b-ab4c-5a1b00b687ad"
      },
      "execution_count": 28,
      "outputs": [
        {
          "output_type": "stream",
          "name": "stdout",
          "text": [
            "750000\n"
          ]
        }
      ]
    },
    {
      "cell_type": "code",
      "source": [
        "#Latihan if else\n",
        "harga = float(input(\"masukkan harga: \"))\n",
        "if harga >= 200000:\n",
        " print(\"Mahal\")\n",
        " if harga >= 200000 and harga < 300000:\n",
        "  diskon = \"10%\"\n",
        "  harga_diskon = harga - (harga * 0.1)\n",
        " elif harga >= 300000 and harga < 400000:\n",
        "  diskon = \"20%\"\n",
        "  harga_diskon = harga - (harga * 0.2)\n",
        " else:\n",
        "  diskon = \"40%\"\n",
        "  harga_diskon = harga - (harga * 0.4)\n",
        "  print(\"Kamu Dapat Diskon \" , diskon)\n",
        "else:\n",
        " print(\"Murah\")\n",
        " harga_diskon = harga\n",
        " print(\"\")\n",
        "print(\"harga yang perlu dibayarkan\", harga_diskon)"
      ],
      "metadata": {
        "colab": {
          "base_uri": "https://localhost:8080/"
        },
        "id": "JrDbIIFIIZzb",
        "outputId": "e1f4336e-71c2-462f-9d56-07294c03093b"
      },
      "execution_count": 30,
      "outputs": [
        {
          "output_type": "stream",
          "name": "stdout",
          "text": [
            "masukkan harga: 220000\n",
            "Mahal\n",
            "harga yang perlu dibayarkan 198000.0\n"
          ]
        }
      ]
    },
    {
      "cell_type": "code",
      "source": [
        "#Latihan if else\n",
        "harga = float(input(\"masukkan harga: \"))\n",
        "if harga >= 200000:\n",
        " print(\"Mahal\")\n",
        " if harga >= 200000 and harga < 300000:\n",
        "  diskon = \"10%\"\n",
        "  harga_diskon = harga - (harga * 0.1)\n",
        " elif harga >= 300000 and harga < 400000:\n",
        "  diskon = \"20%\"\n",
        "  harga_diskon = harga - (harga * 0.2)\n",
        " else:\n",
        "  diskon = \"40%\"\n",
        "  harga_diskon = harga - (harga * 0.4)\n",
        "  print(\"Kamu Dapat Diskon \" , diskon)\n",
        "else:\n",
        " print(\"Murah\")\n",
        " harga_diskon = harga\n",
        " print(\"\")\n",
        "print(\"harga yang perlu dibayarkan\", harga_diskon)"
      ],
      "metadata": {
        "colab": {
          "base_uri": "https://localhost:8080/"
        },
        "id": "RcjYRtnxKE_k",
        "outputId": "2e8c2132-160a-47b4-ddb0-064182e3743b"
      },
      "execution_count": 31,
      "outputs": [
        {
          "output_type": "stream",
          "name": "stdout",
          "text": [
            "masukkan harga: 170000\n",
            "Murah\n",
            "\n",
            "harga yang perlu dibayarkan 170000.0\n"
          ]
        }
      ]
    },
    {
      "cell_type": "code",
      "source": [],
      "metadata": {
        "id": "1TgjgbjrK05T"
      },
      "execution_count": 31,
      "outputs": []
    }
  ]
}